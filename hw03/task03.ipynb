{
 "cells": [
  {
   "cell_type": "code",
   "execution_count": 4,
   "metadata": {
    "collapsed": true
   },
   "outputs": [],
   "source": [
    "import numpy as np"
   ]
  },
  {
   "cell_type": "code",
   "execution_count": 8,
   "metadata": {},
   "outputs": [],
   "source": [
    "# 3.1: minimize regression\n",
    "# This is least squares method\n",
    "\n",
    "\n",
    "def polynomial_regression(X, Y, deg):\n",
    "    if len(X) != len(Y):\n",
    "        return None\n",
    "    m = len(X)\n",
    "    G = np.zeros([m, deg + 1])\n",
    "    for i in range(m):\n",
    "        G[i][0] = 1\n",
    "        for j in range(deg):\n",
    "            G[i][j + 1] = G[i][j] * X[i]\n",
    "    G_transpose = np.transpose(G)\n",
    "    return np.linalg.solve(np.matmul(G_transpose, G), np.matmul(G_transpose, Y))"
   ]
  },
  {
   "cell_type": "code",
   "execution_count": 18,
   "metadata": {},
   "outputs": [],
   "source": [
    "# 3.1: minimize regression\n",
    "import math\n",
    "\n",
    "X = [0.4, 22.1, -23, 32.45, 24]\n",
    "Y = [4.2, 22, 0, 2.555, -4]\n",
    "deg = 3\n",
    "result = polynomial_regression(X, Y, deg)\n",
    "expected = np.polyfit(X, Y, deg)[::-1]\n",
    "assert len(result) == len(expected)\n",
    "for i in range(len(result)):\n",
    "    assert math.isclose(result[i], expected[i], rel_tol=1e-5) "
   ]
  },
  {
   "cell_type": "code",
   "execution_count": 38,
   "metadata": {},
   "outputs": [
    {
     "name": "stdout",
     "output_type": "stream",
     "text": [
      "(10.50008746970535, 9.659948682813534, 23.3335276080614)\n"
     ]
    }
   ],
   "source": [
    "# 3.2: find fitness circle\n",
    "# We will take as radius mean of radiuses in each given point. \n",
    "# So we need to find a point which minimizes sum (R_i - R_mean)^2 \n",
    "# leastsq is a function which takes error function \n",
    "# (in our case it is function which returns by given center errors of radiuses from mean)   \n",
    "# and start point for minimization the sum of squares of given function. \n",
    "from scipy import optimize\n",
    "\n",
    "\n",
    "def find_optimal_circle(X, Y):\n",
    "    def radiuses(c):\n",
    "        # assumes that c is a center \n",
    "        return np.sqrt((X-c[0])**2 + (Y-c[1])**2)\n",
    "\n",
    "    def error_function(c):\n",
    "        radius_for_each_point = radiuses(c)\n",
    "        return radius_for_each_point - radius_for_each_point.mean()    \n",
    "    start_point = np.array([X.mean(), Y.mean()])\n",
    "    optimal_center = optimize.leastsq(error_function, start_point)[0]\n",
    "    optimal_radius = radiuses(optimal_center).mean()\n",
    "    return optimal_center[0], optimal_center[1], optimal_radius"
   ]
  },
  {
   "cell_type": "code",
   "execution_count": 47,
   "metadata": {},
   "outputs": [],
   "source": [
    "# 3.2: find fitness circle, test\n",
    "X = np.r_[1,  0]\n",
    "Y = np.r_[0,  1]\n",
    "assert find_optimal_circle(X, Y) == (0.5, 0.5, np.sqrt(0.5))"
   ]
  },
  {
   "cell_type": "code",
   "execution_count": null,
   "metadata": {},
   "outputs": [],
   "source": []
  }
 ],
 "metadata": {
  "kernelspec": {
   "display_name": "Python 3",
   "language": "python",
   "name": "python3"
  },
  "language_info": {
   "codemirror_mode": {
    "name": "ipython",
    "version": 3
   },
   "file_extension": ".py",
   "mimetype": "text/x-python",
   "name": "python",
   "nbconvert_exporter": "python",
   "pygments_lexer": "ipython3",
   "version": "3.6.4"
  }
 },
 "nbformat": 4,
 "nbformat_minor": 1
}
