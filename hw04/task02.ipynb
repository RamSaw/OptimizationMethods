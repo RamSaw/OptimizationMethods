{
 "cells": [
  {
   "cell_type": "code",
   "execution_count": 1,
   "metadata": {},
   "outputs": [],
   "source": [
    "import numpy as np"
   ]
  },
  {
   "cell_type": "code",
   "execution_count": 39,
   "metadata": {},
   "outputs": [
    {
     "name": "stdout",
     "output_type": "stream",
     "text": [
      "[0.0, 2.5]\n",
      "[0.5, 0.25]\n",
      "None\n",
      "None\n",
      "[1.0, 0.0]\n"
     ]
    }
   ],
   "source": [
    "# 2.1: solve system of linear equations\n",
    "from scipy.optimize import linprog\n",
    "\n",
    "# linear inequalities: A * x <= b\n",
    "def get_entire_point(A, b):\n",
    "    n = len(A[0])\n",
    "    bounds_for_coordinates = [(None, None) for i in range(n)]\n",
    "    coefficients_x_i = [0 for i in range(n)]  \n",
    "    \n",
    "    def get_x_i_bounds(i):\n",
    "        bounds = None\n",
    "        coefficients_x_i[i] = 1\n",
    "        res_min = linprog(coefficients_x_i,\n",
    "                          A_ub=A,\n",
    "                          b_ub=b,\n",
    "                          bounds=bounds_for_coordinates)\n",
    "        coefficients_x_i[i] = -1\n",
    "        res_max = linprog(coefficients_x_i,\n",
    "                          A_ub=A,\n",
    "                          b_ub=b,\n",
    "                          bounds=bounds_for_coordinates)\n",
    "        coefficients_x_i[i] = 0\n",
    "        min_x_i = res_min.fun\n",
    "        max_x_i = -res_max.fun\n",
    "        if res_min.status == 3 and res_max.status == 3:\n",
    "            bounds = [-1, 1]\n",
    "        elif res_min.status == 3:\n",
    "            bounds = [max_x_i - 2, max_x_i]\n",
    "        elif res_max.status == 3:\n",
    "            bounds = [min_x_i, min_x_i + 2]\n",
    "        elif res_min.status == 0 and res_max.status == 0:\n",
    "            bounds = [min_x_i, max_x_i]\n",
    "        return bounds\n",
    "    \n",
    "    entire_point = []\n",
    "    for i in range(n):\n",
    "        bounds = get_x_i_bounds(i)\n",
    "        if bounds is None or bounds[0] == bounds[1]:\n",
    "            return None\n",
    "        x_i = (bounds[0] + bounds[1]) / 2\n",
    "        entire_point.append(x_i)\n",
    "        bounds_for_coordinates[i] = (x_i, x_i)\n",
    "    return entire_point\n",
    "\n",
    "#test\n",
    "entire_pt = get_entire_point([[1, 1], [-1, -1]], [3, -2])\n",
    "assert entire_pt == [0, 2.5] \n",
    "print(entire_pt)\n",
    "\n",
    "entire_pt = get_entire_point([[-1, 0], [0, -1], [1, 1]], [0, 0, 1])\n",
    "assert entire_pt == [0.5, 0.25] \n",
    "print(entire_pt)\n",
    "\n",
    "entire_pt = get_entire_point([[1, 0], [-1, 0]], [0, 0])\n",
    "assert entire_pt is None\n",
    "print(entire_pt)\n",
    "\n",
    "entire_pt = get_entire_point([[1, 0], [-1, 0]], [-2, 0])\n",
    "assert entire_pt is None\n",
    "print(entire_pt)\n",
    "\n",
    "entire_pt = get_entire_point([[1, 0], [-1, 0]], [2, 0])\n",
    "assert entire_pt == [1, 0]\n",
    "print(entire_pt)"
   ]
  },
  {
   "cell_type": "code",
   "execution_count": null,
   "metadata": {},
   "outputs": [],
   "source": []
  },
  {
   "cell_type": "code",
   "execution_count": null,
   "metadata": {},
   "outputs": [],
   "source": []
  }
 ],
 "metadata": {
  "kernelspec": {
   "display_name": "Python 3",
   "language": "python",
   "name": "python3"
  },
  "language_info": {
   "codemirror_mode": {
    "name": "ipython",
    "version": 3
   },
   "file_extension": ".py",
   "mimetype": "text/x-python",
   "name": "python",
   "nbconvert_exporter": "python",
   "pygments_lexer": "ipython3",
   "version": "3.6.4"
  }
 },
 "nbformat": 4,
 "nbformat_minor": 2
}
