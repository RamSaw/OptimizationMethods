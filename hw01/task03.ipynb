{
 "cells": [
  {
   "cell_type": "code",
   "execution_count": 4,
   "metadata": {
    "collapsed": true
   },
   "outputs": [],
   "source": [
    "import numpy as np"
   ]
  },
  {
   "cell_type": "code",
   "execution_count": 8,
   "metadata": {},
   "outputs": [],
   "source": [
    "# 3.1: minimize regression\n",
    "# This is least squares method\n",
    "\n",
    "\n",
    "def polynomial_regression(X, Y, deg):\n",
    "    if len(X) != len(Y):\n",
    "        return None\n",
    "    m = len(X)\n",
    "    G = np.zeros([m, deg + 1])\n",
    "    for i in range(m):\n",
    "        G[i][0] = 1\n",
    "        for j in range(deg):\n",
    "            G[i][j + 1] = G[i][j] * X[i]\n",
    "    G_transpose = np.transpose(G)\n",
    "    return np.linalg.solve(np.matmul(G_transpose, G), np.matmul(G_transpose, Y))"
   ]
  },
  {
   "cell_type": "code",
   "execution_count": 18,
   "metadata": {},
   "outputs": [],
   "source": [
    "import math\n",
    "\n",
    "X = [0.4, 22.1, -23, 32.45, 24]\n",
    "Y = [4.2, 22, 0, 2.555, -4]\n",
    "deg = 3\n",
    "result = polynomial_regression(X, Y, deg)\n",
    "expected = np.polyfit(X, Y, deg)[::-1]\n",
    "assert len(result) == len(expected)\n",
    "for i in range(len(result)):\n",
    "    assert math.isclose(result[i], expected[i], rel_tol=1e-5) "
   ]
  },
  {
   "cell_type": "code",
   "execution_count": null,
   "metadata": {},
   "outputs": [],
   "source": []
  }
 ],
 "metadata": {
  "kernelspec": {
   "display_name": "Python 2",
   "language": "python",
   "name": "python2"
  },
  "language_info": {
   "codemirror_mode": {
    "name": "ipython",
    "version": 2
   },
   "file_extension": ".py",
   "mimetype": "text/x-python",
   "name": "python",
   "nbconvert_exporter": "python",
   "pygments_lexer": "ipython2",
   "version": "2.7.6"
  }
 },
 "nbformat": 4,
 "nbformat_minor": 0
}
