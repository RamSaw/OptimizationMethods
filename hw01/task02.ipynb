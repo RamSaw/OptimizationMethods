{
 "cells": [
  {
   "cell_type": "code",
   "execution_count": 31,
   "metadata": {
    "collapsed": true
   },
   "outputs": [],
   "source": [
    "import numpy as np"
   ]
  },
  {
   "cell_type": "code",
   "execution_count": 39,
   "metadata": {},
   "outputs": [],
   "source": [
    "import matplotlib.pyplot as plt\n",
    "from matplotlib import rc\n",
    "\n",
    "plt.rcParams[\"figure.figsize\"] = [12, 12]\n",
    "# If you have problems with latex at matplotlib just comment next two lines, this might help\n",
    "plt.rc('text', usetex=True)\n",
    "plt.rc('font', family='serif')\n",
    " \n",
    "\n",
    "def fix_scaling(ax=None):\n",
    "    if not ax:\n",
    "        xlim = plt.xlim()\n",
    "        ylim = plt.ylim()\n",
    "        d1 = xlim[1] - xlim[0]\n",
    "        d2 = ylim[1] - ylim[0]\n",
    "        if d1 > d2:\n",
    "            plt.ylim((ylim[0] - (d1 - d2) / 2, ylim[1] + (d1 - d2) / 2))\n",
    "        else:\n",
    "            plt.xlim((xlim[0] + (d1 - d2) / 2, xlim[1] - (d1 - d2) / 2))\n",
    "    else:\n",
    "        xlim = ax.get_xlim()\n",
    "        ylim = ax.get_ylim()\n",
    "        d1 = xlim[1] - xlim[0]\n",
    "        d2 = ylim[1] - ylim[0]\n",
    "        if d1 > d2:\n",
    "            ax.set_ylim((ylim[0] - (d1 - d2) / 2, ylim[1] + (d1 - d2) / 2))\n",
    "        else:\n",
    "            ax.set_xlim((xlim[0] + (d1 - d2) / 2, xlim[1] - (d1 - d2) / 2))\n"
   ]
  },
  {
   "cell_type": "code",
   "execution_count": 32,
   "metadata": {},
   "outputs": [],
   "source": [
    "# 2.1: f, grad\n",
    "def func(x):\n",
    "    return np.e ** (x[0] + 3 * x[1]) + np.e ** (x[0] - 3 * x[1]) + np.e ** (-x[0])\n",
    "\n",
    "\n",
    "def f_grad(x):\n",
    "    return np.array([np.e ** (x[0] + 3 * x[1]) + np.e ** (x[0] - 3 * x[1]) - np.e ** (-x[0]),\n",
    "                     3 * (np.e ** (x[0] + 3 * x[1]) - np.e ** (x[0] - 3 * x[1]))])\n",
    "\n",
    "\n",
    "min_point = [-np.log(2) / 2, 0]"
   ]
  },
  {
   "cell_type": "code",
   "execution_count": 33,
   "metadata": {},
   "outputs": [],
   "source": [
    "# 2.2: estimation of Lipschitz constant\n",
    "def get_lipschitz_grid(x_range, y_range):\n",
    "    L = 0\n",
    "    delta = 0.1\n",
    "    x = np.arange(x_range[0], x_range[1], delta)\n",
    "    y = np.arange(y_range[0], y_range[1], delta)\n",
    "    X, Y = np.meshgrid(x, y)\n",
    "    ZX = np.zeros_like(X)\n",
    "    ZY = np.zeros_like(X)\n",
    "    # print(X.shape, Y.shape)\n",
    "    for i in range(X.shape[0]):\n",
    "        for j in range(X.shape[1]):\n",
    "            grad = f_grad([X[i][j], Y[i][j]])\n",
    "            ZX[i][j] = grad[0]\n",
    "            ZY[i][j] = grad[1]\n",
    "    # print(range(X.shape[0]))\n",
    "    # print(range(X.shape[1]))\n",
    "    for i1 in range(X.shape[0]):\n",
    "        for j1 in range(X.shape[1]):\n",
    "            for i2 in range(X.shape[0]):\n",
    "                for j2 in range(X.shape[1]):\n",
    "                    x1 = X[i1][j1]\n",
    "                    y1 = Y[i1][j1]\n",
    "                    x2 = X[i2][j2]\n",
    "                    y2 = Y[i2][j2]  \n",
    "                    # print(\"Point1: \", x1, y1)\n",
    "                    # print(\"Point2: \", x2, y2)\n",
    "                    norm_points = np.linalg.norm(np.array([x1, y1]) - np.array([x2, y2]))\n",
    "                    norm_f = np.linalg.norm(np.array([ZX[i1][j1], ZY[i1][j1]]) - np.array([ZX[i2][j2], ZY[i2][j2]]))\n",
    "                    # print(\"Norm point: \", norm_points)\n",
    "                    # print(\"Norm f: \", norm_f)\n",
    "                    if norm_points == 0:\n",
    "                        continue\n",
    "                    new_L = norm_f / norm_points\n",
    "                    # print(\"New L: \", new_L)\n",
    "                    L = max(L, new_L)\n",
    "    return L"
   ]
  },
  {
   "cell_type": "code",
   "execution_count": 34,
   "metadata": {},
   "outputs": [],
   "source": [
    "# 2.2: estimation of Lipschitz constant\n",
    "def get_lipschitz_random(x_range, y_range):\n",
    "    L = 0\n",
    "    iterations_number = 100000\n",
    "    for i in range(iterations_number):\n",
    "        rand = np.random.random([4])\n",
    "        x1 = x_range[0] + (x_range[1] - x_range[0]) * rand[0]\n",
    "        y1 = y_range[0] + (y_range[1] - y_range[0]) * rand[1]\n",
    "        x2 = x_range[0] + (x_range[1] - x_range[0]) * rand[2]\n",
    "        y2 = y_range[0] + (y_range[1] - y_range[0]) * rand[3]\n",
    "        # print(\"Point1: \", x1, y1)\n",
    "        # print(\"Point2: \", x2, y2)\n",
    "        norm_points = np.linalg.norm(np.array([x1, y1]) - np.array([x2, y2]))\n",
    "        norm_f = np.linalg.norm(np.array(f_grad([x1, y1])) - np.array(f_grad([x2, y2])))\n",
    "        # print(\"Norm point: \", norm_points)\n",
    "        # print(\"Norm f: \", norm_f)\n",
    "        if norm_points == 0:\n",
    "            continue\n",
    "        new_L = norm_f / norm_points\n",
    "        # print(\"New L: \", new_L)\n",
    "        L = max(L, new_L)\n",
    "    return L"
   ]
  },
  {
   "cell_type": "code",
   "execution_count": 35,
   "metadata": {},
   "outputs": [],
   "source": [
    "# 2.2: estimation of Lipschitz constant\n",
    "def get_lipschitz(x_range, y_range):\n",
    "    return max(get_lipschitz_grid(x_range, y_range), get_lipschitz_random(x_range, y_range))"
   ]
  },
  {
   "cell_type": "code",
   "execution_count": 36,
   "metadata": {
    "collapsed": true
   },
   "outputs": [
    {
     "name": "stdout",
     "output_type": "stream",
     "text": [
      "Grid:  405.98947162419614\n"
     ]
    }
   ],
   "source": [
    "# 2.2: estimation of Lipschitz constant\n",
    "L_constant = get_lipschitz_grid([-1, 1], [-1, 1])\n",
    "print(\"Grid: \", L_constant)"
   ]
  },
  {
   "cell_type": "code",
   "execution_count": 37,
   "metadata": {},
   "outputs": [
    {
     "name": "stdout",
     "output_type": "stream",
     "text": [
      "Random: 447.50240455558475\n"
     ]
    }
   ],
   "source": [
    "# 2.2: estimation of Lipschitz constant\n",
    "L_constant = get_lipschitz_random([-1, 1], [-1, 1])\n",
    "print(\"Random:\", L_constant)"
   ]
  },
  {
   "cell_type": "code",
   "execution_count": 38,
   "metadata": {},
   "outputs": [
    {
     "name": "stdout",
     "output_type": "stream",
     "text": [
      "Lipschitz constant approximately equals  405.98947162419614\n"
     ]
    }
   ],
   "source": [
    "# 2.2: estimation of Lipschitz constant\n",
    "L_constant = get_lipschitz([-1, 1], [-1, 1])\n",
    "print(\"Lipschitz constant approximately equals \", L_constant)"
   ]
  },
  {
   "cell_type": "code",
   "execution_count": null,
   "metadata": {},
   "outputs": [],
   "source": [
    "from matplotlib.animation import FuncAnimation\n",
    "from IPython.display import HTML\n",
    "\n",
    "\n",
    "def animate_trajectory(trajectory):\n",
    "    fig, ax = plt.subplots()\n",
    "    n = len(trajectory)\n",
    "\n",
    "    def step(t):\n",
    "        ax.cla()\n",
    "        ax.plot([min_point[0]], [min_point[1]], 'o', color='green')\n",
    "        # Level contours\n",
    "        delta = 0.025\n",
    "        x = np.arange(-2, 4, delta)\n",
    "        y = np.arange(-3, 3, delta)\n",
    "        X, Y = np.meshgrid(x, y)\n",
    "        Z = np.zeros_like(X)\n",
    "        # print(X.shape, Y.shape)\n",
    "        for i in range(X.shape[0]):\n",
    "            for j in range(X.shape[1]):\n",
    "                Z[i][j] = func([X[i][j], Y[i][j]])\n",
    "        CS = ax.contour(X, Y, Z, [1, 6, 20], colors=['blue', 'purple', 'red'])\n",
    "\n",
    "        ax.plot([u[0] for u in trajectory[:t]], [u[1] for u in trajectory[:t]], color='black')\n",
    "        ax.plot([u[0] for u in trajectory[:t]], [u[1] for u in trajectory[:t]], 'o', color='black')\n",
    "        \n",
    "        fix_scaling(ax)\n",
    "        ax.axis('off')\n",
    "\n",
    "    return FuncAnimation(fig, step, frames=range(n), interval=600)"
   ]
  },
  {
   "cell_type": "code",
   "execution_count": null,
   "metadata": {},
   "outputs": [],
   "source": [
    "alpha = 1 / (1 + 1)\n",
    "beta = (np.sqrt(1) - np.sqrt(2)) / (np.sqrt(1) + np.sqrt(2))\n",
    "trajectory_nesterov = []\n",
    "x_start = np.array([2, 2.8])\n",
    "trajectory_nesterov.append(x_start.copy())\n",
    "cur_x = x_start.copy()\n",
    "cur_y = x_start.copy()\n",
    "iterations_number = 25\n",
    "for i in range(iterations_number):\n",
    "    t = cur_x\n",
    "    cur_x = cur_y - alpha * f_grad(cur_y)\n",
    "    cur_y = cur_x + beta * (cur_x - t)\n",
    "    trajectory_nesterov.append(cur_x.copy())\n",
    "    \n",
    "base_animation = animate_trajectory(trajectory_nesterov)\n",
    "HTML(base_animation.to_html5_video())"
   ]
  }
 ],
 "metadata": {
  "kernelspec": {
   "display_name": "Python 2",
   "language": "python",
   "name": "python2"
  },
  "language_info": {
   "codemirror_mode": {
    "name": "ipython",
    "version": 2
   },
   "file_extension": ".py",
   "mimetype": "text/x-python",
   "name": "python",
   "nbconvert_exporter": "python",
   "pygments_lexer": "ipython2",
   "version": "2.7.6"
  }
 },
 "nbformat": 4,
 "nbformat_minor": 0
}
